{
 "cells": [
  {
   "cell_type": "markdown",
   "id": "3187719f-e8a5-4075-899e-3f1ade2aa72c",
   "metadata": {},
   "source": [
    "# Data Science Tools and Ecosystem"
   ]
  },
  {
   "cell_type": "markdown",
   "id": "509dacda-ef1a-43bb-93d9-ce54ee28f199",
   "metadata": {},
   "source": [
    "## Introduction\n",
    "## In this notebook, Data Science Tools and Ecosystem are summarized."
   ]
  },
  {
   "cell_type": "markdown",
   "id": "8af1a6df-9190-4339-8c86-2ff6f197df71",
   "metadata": {},
   "source": [
    "Some of the popular languages that Data Scientists use are:\n",
    "1. Python\n",
    "2. R\n",
    "3. SQL\n",
    "4. Java\n",
    "5. Julia\n"
   ]
  },
  {
   "cell_type": "markdown",
   "id": "964a5fbb-8686-4a9f-acdc-5d6e3f363d4c",
   "metadata": {},
   "source": [
    "Some of the commonly used libraries used by Data Scientists include:\r\n",
    "- NumPy\r\n",
    "- Pandas\r\n",
    "- Matplotlib\r\n",
    "- Scikit-learn\r\n",
    "- TensorFlow\r\n",
    "- PyTorch\r\n"
   ]
  },
  {
   "cell_type": "markdown",
   "id": "fc71fd10-de56-46ff-ad67-812aa7d644da",
   "metadata": {},
   "source": [
    "Some of the commonly used tools in Data Science include:\r\n",
    "- Jupyter Notebooks\r\n",
    "- RStudio\r\n",
    "- Spyder\r\n",
    "- Anaconda\r\n",
    "- Tableau\r\n",
    "- Power BI\r\n",
    "- Apache Spark\r\n",
    "- Hadoop\r\n"
   ]
  },
  {
   "cell_type": "markdown",
   "id": "49325fc6-ac1b-41af-9237-543644517607",
   "metadata": {},
   "source": [
    "Here are a few examples of evaluating arithmetic expressions in Python:\n",
    "\n",
    "```python\n",
    "# Examples of evaluating arithmetic expressions in Python\n",
    "addition_result = 5 + 3\n",
    "subtraction_result = 10 - 4\n",
    "multiplication_result = 6 * 2\n",
    "division_result = 15 / 3\n",
    "exponentiation_result = 2 ** 3\n",
    "modulus_result = 10 % 3\n"
   ]
  },
  {
   "cell_type": "code",
   "execution_count": 4,
   "id": "8f9de5f8-6d0a-4935-8b59-6d2b7afd0880",
   "metadata": {},
   "outputs": [
    {
     "data": {
      "text/plain": [
       "17"
      ]
     },
     "execution_count": 4,
     "metadata": {},
     "output_type": "execute_result"
    }
   ],
   "source": [
    "# This is a simple arithmetic expression to multiply then add integers.\n",
    "result = (3 * 4) + 5\n",
    "result\n"
   ]
  },
  {
   "cell_type": "code",
   "execution_count": 5,
   "id": "9fbcf40b-2f35-41b4-9593-ea7272714ff2",
   "metadata": {},
   "outputs": [
    {
     "data": {
      "text/plain": [
       "3.3333333333333335"
      ]
     },
     "execution_count": 5,
     "metadata": {},
     "output_type": "execute_result"
    }
   ],
   "source": [
    "# This will convert 200 minutes to hours by dividing by 60.\n",
    "hours = 200 / 60\n",
    "hours\n"
   ]
  },
  {
   "cell_type": "markdown",
   "id": "064c38c8-3ca4-40e4-8467-dc4bfbc9ac7f",
   "metadata": {},
   "source": [
    "**Objectives:**\r\n",
    "\r\n",
    "- List popular languages for Data Science\r\n",
    "- Explore commonly used libraries in Data Science\r\n",
    "- Understand arithmetic operations in Python\r\n",
    "- Convert minutes to hours using Python\r\n",
    "- Indicate the author's name in the notebook\r\n"
   ]
  },
  {
   "cell_type": "markdown",
   "id": "9b444fbe-c2ce-4b92-b581-f039be4199b4",
   "metadata": {},
   "source": [
    "## Author\n",
    "Sahaj Gupta\n"
   ]
  },
  {
   "cell_type": "code",
   "execution_count": null,
   "id": "a63fbfe5-00e0-43fa-bd19-324bd26b3591",
   "metadata": {},
   "outputs": [],
   "source": []
  },
  {
   "cell_type": "code",
   "execution_count": null,
   "id": "8bbdccc5-b097-4ea9-902b-d2121472b5bf",
   "metadata": {},
   "outputs": [],
   "source": []
  }
 ],
 "metadata": {
  "kernelspec": {
   "display_name": "Python 3 (ipykernel)",
   "language": "python",
   "name": "python3"
  },
  "language_info": {
   "codemirror_mode": {
    "name": "ipython",
    "version": 3
   },
   "file_extension": ".py",
   "mimetype": "text/x-python",
   "name": "python",
   "nbconvert_exporter": "python",
   "pygments_lexer": "ipython3",
   "version": "3.11.0"
  }
 },
 "nbformat": 4,
 "nbformat_minor": 5
}
